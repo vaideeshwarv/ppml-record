{
 "cells": [
  {
   "cell_type": "markdown",
   "id": "09544261-1e8c-48ad-9d8d-abf794e5ecde",
   "metadata": {},
   "source": [
    "EUCLIDEAN DISTANCE"
   ]
  },
  {
   "cell_type": "code",
   "execution_count": 1,
   "id": "36c88d14-44bd-4f8b-93f5-a89b5656b9d1",
   "metadata": {},
   "outputs": [
    {
     "data": {
      "text/plain": [
       "2.8284271247461903"
      ]
     },
     "execution_count": 1,
     "metadata": {},
     "output_type": "execute_result"
    }
   ],
   "source": [
    "import numpy as np\n",
    "p = np.array([1,1])\n",
    "q = np.array([-1,-1])\n",
    "def d(a,b):\n",
    "    answer = np.sqrt(((a[0]-b[0])**2)+((a[1]-b[1])**2))\n",
    "    return answer\n",
    "d(q,p)"
   ]
  },
  {
   "cell_type": "markdown",
   "id": "eb23faa1-5157-47d7-9ec1-49ce08a30647",
   "metadata": {},
   "source": [
    "DOT PRODUCT"
   ]
  },
  {
   "cell_type": "code",
   "execution_count": 2,
   "id": "4b6eaef0-55a0-4303-87d8-fac74eb76dd4",
   "metadata": {},
   "outputs": [
    {
     "name": "stdout",
     "output_type": "stream",
     "text": [
      "112\n"
     ]
    }
   ],
   "source": [
    "h = np.array([5,12])\n",
    "i = np.array([8,6])\n",
    "print(h.dot(i))"
   ]
  },
  {
   "cell_type": "markdown",
   "id": "94d6b03a-c2cc-4432-9691-70bd6738d5c6",
   "metadata": {},
   "source": [
    "SYSTEM OF LINEAR EQUATION"
   ]
  },
  {
   "cell_type": "code",
   "execution_count": 3,
   "id": "0a587ba0-c361-477d-9536-ed1ca429c35d",
   "metadata": {},
   "outputs": [
    {
     "name": "stdout",
     "output_type": "stream",
     "text": [
      "[2.4 1.  0.8]\n"
     ]
    }
   ],
   "source": [
    "A = np.array([[2, 1, -1],\n",
    "              [3, 2, 1],\n",
    "              [1, -1, 2]])\n",
    "B = np.array([5, 10, 3])\n",
    "X = np.linalg.inv(A).dot(B)\n",
    "print(X)"
   ]
  }
 ],
 "metadata": {
  "kernelspec": {
   "display_name": "Python 3 (ipykernel)",
   "language": "python",
   "name": "python3"
  },
  "language_info": {
   "codemirror_mode": {
    "name": "ipython",
    "version": 3
   },
   "file_extension": ".py",
   "mimetype": "text/x-python",
   "name": "python",
   "nbconvert_exporter": "python",
   "pygments_lexer": "ipython3",
   "version": "3.12.3"
  }
 },
 "nbformat": 4,
 "nbformat_minor": 5
}
