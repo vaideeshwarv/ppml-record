{
 "cells": [
  {
   "cell_type": "code",
   "execution_count": null,
   "id": "489e0775-10e0-47d8-851e-2cc2e1c3e9cf",
   "metadata": {},
   "outputs": [],
   "source": [
    "import numpy as np\n",
    "\n",
    "# Define the function\n",
    "def f(x, y):\n",
    "    return x**2 + y**2 + 4\n",
    "\n",
    "# Define the gradient of the function\n",
    "def gradient(x, y):\n",
    "    df_dx = np.cos(y) + 0.2 * x + 1\n",
    "    df_dy = - np.sin(y) + 0.2 * y - 1\n",
    "    return np.array([df_dx, df_dy])\n",
    "\n",
    "# Gradient Descent Function\n",
    "def gradient_descent(initial_point, learning_rate, iterations):\n",
    "    point = np.array(initial_point, dtype=float)  # Initial point\n",
    "    history = []  # To store the history of points\n",
    "\n",
    "    for _ in range(iterations):\n",
    "        grad = gradient(point[0], point[1])  # Compute the gradient\n",
    "        point = point - learning_rate * grad  # Update the point\n",
    "        history.append(point.copy())  # Store the point in history\n",
    "\n",
    "    return point, history"
   ]
  },
  {
   "cell_type": "code",
   "execution_count": null,
   "id": "48bb4579-f1b6-4eab-b765-28d3da542b57",
   "metadata": {},
   "outputs": [],
   "source": [
    "# Parameters\n",
    "initial_point = [10, 10]  # Starting point\n",
    "learning_rate = 0.1  # Learning rate\n",
    "iterations = 100  # Number of iterations\n",
    "\n",
    "# Perform gradient descent\n",
    "min_point, history = gradient_descent(initial_point, learning_rate, iterations)\n",
    "\n",
    "# Output the result\n",
    "print(\"The function reaches its minimum value at:\", min_point)\n",
    "print(\"Minimum value of the function:\", f(min_point[0], min_point[1]))"
   ]
  },
  {
   "cell_type": "code",
   "execution_count": 1,
   "id": "06e17f8f-5bfd-4109-beb2-5207d07d120e",
   "metadata": {},
   "outputs": [
    {
     "ename": "NameError",
     "evalue": "name 'np' is not defined",
     "output_type": "error",
     "traceback": [
      "\u001b[1;31m---------------------------------------------------------------------------\u001b[0m",
      "\u001b[1;31mNameError\u001b[0m                                 Traceback (most recent call last)",
      "Cell \u001b[1;32mIn[1], line 4\u001b[0m\n\u001b[0;32m      1\u001b[0m \u001b[38;5;66;03m#Plotting\u001b[39;00m\n\u001b[0;32m      2\u001b[0m \u001b[38;5;28;01mimport\u001b[39;00m \u001b[38;5;21;01mmatplotlib\u001b[39;00m\u001b[38;5;21;01m.\u001b[39;00m\u001b[38;5;21;01mpyplot\u001b[39;00m \u001b[38;5;28;01mas\u001b[39;00m \u001b[38;5;21;01mplt\u001b[39;00m\n\u001b[1;32m----> 4\u001b[0m history \u001b[38;5;241m=\u001b[39m \u001b[43mnp\u001b[49m\u001b[38;5;241m.\u001b[39marray(history)\n\u001b[0;32m      5\u001b[0m plt\u001b[38;5;241m.\u001b[39mplot(history[:, \u001b[38;5;241m0\u001b[39m], history[:, \u001b[38;5;241m1\u001b[39m], \u001b[38;5;124m'\u001b[39m\u001b[38;5;124mo-\u001b[39m\u001b[38;5;124m'\u001b[39m, markersize\u001b[38;5;241m=\u001b[39m\u001b[38;5;241m3\u001b[39m, label\u001b[38;5;241m=\u001b[39m\u001b[38;5;124m'\u001b[39m\u001b[38;5;124mPath of gradient descent\u001b[39m\u001b[38;5;124m'\u001b[39m)\n\u001b[0;32m      6\u001b[0m plt\u001b[38;5;241m.\u001b[39mxlabel(\u001b[38;5;124m'\u001b[39m\u001b[38;5;124mx\u001b[39m\u001b[38;5;124m'\u001b[39m)\n",
      "\u001b[1;31mNameError\u001b[0m: name 'np' is not defined"
     ]
    }
   ],
   "source": [
    "#Plotting\n",
    "import matplotlib.pyplot as plt\n",
    "\n",
    "history = np.array(history)\n",
    "plt.plot(history[:, 0], history[:, 1], 'o-', markersize=3, label='Path of gradient descent')\n",
    "plt.xlabel('x')\n",
    "plt.ylabel('y')\n",
    "plt.title('Gradient Descent Path')\n",
    "plt.legend()\n",
    "plt.show()"
   ]
  },
  {
   "cell_type": "code",
   "execution_count": null,
   "id": "feb0511a-a1bf-4671-8439-cd42ac30dc00",
   "metadata": {},
   "outputs": [],
   "source": []
  }
 ],
 "metadata": {
  "kernelspec": {
   "display_name": "Python 3 (ipykernel)",
   "language": "python",
   "name": "python3"
  },
  "language_info": {
   "codemirror_mode": {
    "name": "ipython",
    "version": 3
   },
   "file_extension": ".py",
   "mimetype": "text/x-python",
   "name": "python",
   "nbconvert_exporter": "python",
   "pygments_lexer": "ipython3",
   "version": "3.12.3"
  }
 },
 "nbformat": 4,
 "nbformat_minor": 5
}
